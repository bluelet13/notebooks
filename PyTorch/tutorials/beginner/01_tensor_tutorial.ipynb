{
  "nbformat": 4,
  "nbformat_minor": 0,
  "metadata": {
    "colab": {
      "name": "Untitled1.ipynb",
      "provenance": [],
      "collapsed_sections": [],
      "toc_visible": true,
      "authorship_tag": "ABX9TyPmV1jwZTVW+XzdhGQ7+fDy",
      "include_colab_link": true
    },
    "kernelspec": {
      "name": "python3",
      "display_name": "Python 3"
    },
    "accelerator": "GPU"
  },
  "cells": [
    {
      "cell_type": "markdown",
      "metadata": {
        "id": "view-in-github",
        "colab_type": "text"
      },
      "source": [
        "<a href=\"https://colab.research.google.com/github/bluelet13/notebooks/blob/master/PyTorch/tutorials/beginner/01_tensor_tutorial.ipynb\" target=\"_parent\"><img src=\"https://colab.research.google.com/assets/colab-badge.svg\" alt=\"Open In Colab\"/></a>"
      ]
    },
    {
      "cell_type": "markdown",
      "metadata": {
        "id": "kSn56gLC2iku",
        "colab_type": "text"
      },
      "source": [
        "# DEEP LEARNING WITH PYTORCH: A 60 MINUTE BLITZ (What is pytorch?)\n",
        "\n",
        "本ノートブックは、PyTorch公式のビギナー向けのチュートリアルである  [DEEP LEARNING WITH PYTORCH: A 60 MINUTE BLITZ - What is pytorch?](https://pytorch.org/tutorials/beginner/blitz/tensor_tutorial.html#sphx-glr-beginner-blitz-tensor-tutorial-py) を進めながら、理解を深めるため独自で日本語化しているものです。"
      ]
    },
    {
      "cell_type": "markdown",
      "metadata": {
        "id": "q5cI8MF5Uly2",
        "colab_type": "text"
      },
      "source": [
        "## PyTorchとは\n",
        "\n",
        "以下の2つの対象者を対象とした、Pythonベースの科学計算パッケージです。\n",
        "\n",
        "* GPUのパワーを利用するためのNumPyの代替\n",
        "* ディープラーニングの研究プラットフォーム"
      ]
    },
    {
      "cell_type": "code",
      "metadata": {
        "id": "N8MYVHyy7W0L",
        "colab_type": "code",
        "colab": {}
      },
      "source": [
        "pip install --quiet --upgrade torch torchvision"
      ],
      "execution_count": null,
      "outputs": []
    },
    {
      "cell_type": "code",
      "metadata": {
        "id": "ElPVHghS1ZPT",
        "colab_type": "code",
        "colab": {}
      },
      "source": [
        "from __future__ import print_function\n",
        "import torch\n",
        "\n",
        "print(torch.__version__)"
      ],
      "execution_count": null,
      "outputs": []
    },
    {
      "cell_type": "markdown",
      "metadata": {
        "id": "Rcyp0b0H5l02",
        "colab_type": "text"
      },
      "source": [
        "## テンソル\n",
        "\n",
        "TensorsはNumPyのndarraysに似ていますが、それに加えて、TensorsはGPU上でも計算を高速化するために使用することができます。\n",
        "\n"
      ]
    },
    {
      "cell_type": "markdown",
      "metadata": {
        "id": "rqam2WLiqZVk",
        "colab_type": "text"
      },
      "source": [
        "### 行列の作成 （初期化なし）\n",
        "\n",
        "以下の処理を実行することによって、初期化されていない 5x3 の行列を作成します。"
      ]
    },
    {
      "cell_type": "code",
      "metadata": {
        "id": "elxJ7vfL6GN5",
        "colab_type": "code",
        "colab": {}
      },
      "source": [
        "x = torch.empty(5, 3)\n",
        "print(x)"
      ],
      "execution_count": null,
      "outputs": []
    },
    {
      "cell_type": "markdown",
      "metadata": {
        "id": "q6B2CU1Jq50s",
        "colab_type": "text"
      },
      "source": [
        "### 行列の作成 （ランダムに初期化）\n",
        "\n",
        "以下の処理を実行することによって、ランダムに初期化された 5x3 の行列を作成します。"
      ]
    },
    {
      "cell_type": "code",
      "metadata": {
        "id": "djQ3wja46JYD",
        "colab_type": "code",
        "colab": {}
      },
      "source": [
        "x = torch.rand(5, 3)\n",
        "print(x)"
      ],
      "execution_count": null,
      "outputs": []
    },
    {
      "cell_type": "markdown",
      "metadata": {
        "id": "oNJyIroJrNFa",
        "colab_type": "text"
      },
      "source": [
        "### 行列の作成 （初期値0のlong型で初期化）\n",
        "\n",
        "以下の処理を実行することによって、ゼロで初期化された 5x3 のlong型の行列を作成します。"
      ]
    },
    {
      "cell_type": "code",
      "metadata": {
        "id": "eRgPDlv_6YSv",
        "colab_type": "code",
        "colab": {}
      },
      "source": [
        "x = torch.zeros(5, 3, dtype=torch.long)\n",
        "print(x)"
      ],
      "execution_count": null,
      "outputs": []
    },
    {
      "cell_type": "markdown",
      "metadata": {
        "id": "LEZ0FMlIr5pa",
        "colab_type": "text"
      },
      "source": [
        "### 行列の作成 （データから作成）\n",
        "\n",
        "以下の処理を実行することによって、データから直接テンソルを作成します。"
      ]
    },
    {
      "cell_type": "code",
      "metadata": {
        "id": "sQoaWhYG6lHf",
        "colab_type": "code",
        "colab": {}
      },
      "source": [
        "x = torch.tensor([5.5, 3])\n",
        "print(x)"
      ],
      "execution_count": null,
      "outputs": []
    },
    {
      "cell_type": "markdown",
      "metadata": {
        "id": "xXKvBFMWsNw0",
        "colab_type": "text"
      },
      "source": [
        "また以下の処理の様に、既存のテンソルから新しいテンソルを作成することもできます。  \n",
        "これらのメソッドはユーザーが新しい値を提供しない限り、入力テンソルのプロパティを再利用します。（例えば、dtypeなど）"
      ]
    },
    {
      "cell_type": "code",
      "metadata": {
        "id": "Optga0Xj6vYe",
        "colab_type": "code",
        "colab": {}
      },
      "source": [
        "x = x.new_ones(5, 3, dtype=torch.double)\n",
        "print(x)\n",
        "\n",
        "x = torch.randn_like(x, dtype=torch.float)\n",
        "print(x)"
      ],
      "execution_count": null,
      "outputs": []
    },
    {
      "cell_type": "markdown",
      "metadata": {
        "id": "l_z8n7dDst18",
        "colab_type": "text"
      },
      "source": [
        "### 行列のサイズ\n",
        "\n",
        "以下の処理を実行することによって、行列のサイズを取得することができます。  "
      ]
    },
    {
      "cell_type": "code",
      "metadata": {
        "id": "dWSom1kS3uKG",
        "colab_type": "code",
        "colab": {}
      },
      "source": [
        "print(x.size())"
      ],
      "execution_count": null,
      "outputs": []
    },
    {
      "cell_type": "markdown",
      "metadata": {
        "id": "6dDkhSeyHV7G",
        "colab_type": "text"
      },
      "source": [
        "## 操作"
      ]
    },
    {
      "cell_type": "markdown",
      "metadata": {
        "id": "SsJ0ZZBwtB9U",
        "colab_type": "text"
      },
      "source": [
        "### 加算\n",
        "\n",
        "以下のコマンドを実行することによって、テンソルの加算を行うことができます。  \n",
        "加算するだけであっても、細かなシンタックスの違い・出力方法の違いなどがあります。  "
      ]
    },
    {
      "cell_type": "markdown",
      "metadata": {
        "id": "eV1ohHOItpMq",
        "colab_type": "text"
      },
      "source": [
        "#### シンタックス1"
      ]
    },
    {
      "cell_type": "code",
      "metadata": {
        "id": "UA5WPUXv4CYZ",
        "colab_type": "code",
        "colab": {}
      },
      "source": [
        "y = torch.rand(5, 3)\n",
        "print(x + y)"
      ],
      "execution_count": null,
      "outputs": []
    },
    {
      "cell_type": "markdown",
      "metadata": {
        "id": "1EQFwq0htyVq",
        "colab_type": "text"
      },
      "source": [
        "#### シンタックス2"
      ]
    },
    {
      "cell_type": "code",
      "metadata": {
        "id": "PRiXUAoo4hAi",
        "colab_type": "code",
        "colab": {}
      },
      "source": [
        "print(torch.add(x, y))"
      ],
      "execution_count": null,
      "outputs": []
    },
    {
      "cell_type": "markdown",
      "metadata": {
        "id": "lTlutEHBt1xw",
        "colab_type": "text"
      },
      "source": [
        "#### 引数へ出力するテンソルを代入"
      ]
    },
    {
      "cell_type": "code",
      "metadata": {
        "id": "q8u7z36C4vw-",
        "colab_type": "code",
        "colab": {}
      },
      "source": [
        "result = torch.empty(5, 3)\n",
        "torch.add(x, y, out=result)\n",
        "print(result)"
      ],
      "execution_count": null,
      "outputs": []
    },
    {
      "cell_type": "markdown",
      "metadata": {
        "id": "0iPGZhdjuEv0",
        "colab_type": "text"
      },
      "source": [
        "#### 置換"
      ]
    },
    {
      "cell_type": "code",
      "metadata": {
        "id": "ucqWRHKj5BwP",
        "colab_type": "code",
        "colab": {}
      },
      "source": [
        "y.add_(x)\n",
        "print(y)"
      ],
      "execution_count": null,
      "outputs": []
    },
    {
      "cell_type": "markdown",
      "metadata": {
        "id": "x_6g-35b5N8j",
        "colab_type": "text"
      },
      "source": [
        "\n",
        "\n",
        "> テンソルをその場で変更させる操作は、すべて `_` で固定されます。  \n",
        "> 例: `x.copy_(y)`, `x.t_()` は `x` を変更します。\n",
        "\n",
        "\n"
      ]
    },
    {
      "cell_type": "markdown",
      "metadata": {
        "id": "emLcet7QuXT1",
        "colab_type": "text"
      },
      "source": [
        "### NumPyライクなインデックス\n",
        "\n",
        "様々なオプション機能として標準的なNumPyライクなインデックスを使用することができます。"
      ]
    },
    {
      "cell_type": "code",
      "metadata": {
        "id": "BE06QW9AEIF-",
        "colab_type": "code",
        "colab": {}
      },
      "source": [
        "print(x[:, 1])"
      ],
      "execution_count": null,
      "outputs": []
    },
    {
      "cell_type": "markdown",
      "metadata": {
        "id": "y5PaQP3aFI1k",
        "colab_type": "text"
      },
      "source": [
        "### リサイズ\n",
        "\n",
        "テンソルを リサイズ/リシェイプ したい場合は、`torch.view` を使用します。"
      ]
    },
    {
      "cell_type": "code",
      "metadata": {
        "id": "Hhv45KoHFYXT",
        "colab_type": "code",
        "colab": {}
      },
      "source": [
        "x = torch.randn(4, 4)\n",
        "y = x.view(16)\n",
        "z = x.view(-1, 8)\n",
        "print(x.size(), y.size(), z.size())"
      ],
      "execution_count": null,
      "outputs": []
    },
    {
      "cell_type": "markdown",
      "metadata": {
        "id": "tn2NUXtcGWDZ",
        "colab_type": "text"
      },
      "source": [
        "一要素テンソルを持っている場合は、`.item()` を使ってPythonの数値として取得します。"
      ]
    },
    {
      "cell_type": "code",
      "metadata": {
        "id": "6giblN2FGbQR",
        "colab_type": "code",
        "colab": {}
      },
      "source": [
        "x = torch.randn(1)\n",
        "print(x)\n",
        "\n",
        "print(x.item())"
      ],
      "execution_count": null,
      "outputs": []
    },
    {
      "cell_type": "markdown",
      "metadata": {
        "id": "99GNf4shGvl2",
        "colab_type": "text"
      },
      "source": [
        "### その他\n",
        "\n",
        "転置、インデックス、スライシング、数学演算、線形代数、乱数など100以上のテンソル演算を解説しています。\n",
        "\n",
        "https://pytorch.org/docs/stable/torch.html\n"
      ]
    },
    {
      "cell_type": "markdown",
      "metadata": {
        "id": "SLkE4IqFJPjq",
        "colab_type": "text"
      },
      "source": [
        "## NumPy Bridge\n",
        "\n",
        "Torchテンソル から NumPy配列への変換・逆変換は簡単です。\n",
        "Torchテンソル と NumPy配列は、（TorchテンソルがCPU上にある場合）基礎となるメモリロケーションを共有しています。\n",
        "一方を変更すると他方も変更されrます。"
      ]
    },
    {
      "cell_type": "markdown",
      "metadata": {
        "id": "jliiUvWhJ5EY",
        "colab_type": "text"
      },
      "source": [
        "### TorchテンソルのNumPy配列への変換"
      ]
    },
    {
      "cell_type": "code",
      "metadata": {
        "id": "hmciENW-Gq3g",
        "colab_type": "code",
        "colab": {}
      },
      "source": [
        "a = torch.ones(5)\n",
        "print(a)"
      ],
      "execution_count": null,
      "outputs": []
    },
    {
      "cell_type": "code",
      "metadata": {
        "id": "_cTc6rxWKJcb",
        "colab_type": "code",
        "colab": {}
      },
      "source": [
        "b = a.numpy()\n",
        "print(b)"
      ],
      "execution_count": null,
      "outputs": []
    },
    {
      "cell_type": "code",
      "metadata": {
        "id": "P6de92IDKQ-R",
        "colab_type": "code",
        "colab": {}
      },
      "source": [
        "a.add_(1)\n",
        "print(a)\n",
        "print(b)"
      ],
      "execution_count": null,
      "outputs": []
    },
    {
      "cell_type": "markdown",
      "metadata": {
        "id": "eUXj8gYIQszp",
        "colab_type": "text"
      },
      "source": [
        "### NumPy配列からトーチテンソルへの変換\n",
        "\n",
        "NumPyの配列を変更すると、Torchテンソルが自動的に変更されたことを確認することができます。\n",
        "\n"
      ]
    },
    {
      "cell_type": "code",
      "metadata": {
        "id": "luiV6sVKQ3ml",
        "colab_type": "code",
        "colab": {}
      },
      "source": [
        "import numpy as np\n",
        "\n",
        "a = np.ones(5)\n",
        "b = torch.from_numpy(a)\n",
        "print(a)\n",
        "print(b)"
      ],
      "execution_count": null,
      "outputs": []
    },
    {
      "cell_type": "code",
      "metadata": {
        "id": "siPrRsdsRP8c",
        "colab_type": "code",
        "colab": {}
      },
      "source": [
        "np.add(a, 1, out=a)\n",
        "print(a)\n",
        "print(b)"
      ],
      "execution_count": null,
      "outputs": []
    },
    {
      "cell_type": "markdown",
      "metadata": {
        "id": "pn8pSGEXae3K",
        "colab_type": "text"
      },
      "source": [
        "> CPU上のテンソルは、Charテンソル以外はすべてNumPyへの変換をサポートしています。"
      ]
    },
    {
      "cell_type": "markdown",
      "metadata": {
        "id": "_ZbH8dOzUKks",
        "colab_type": "text"
      },
      "source": [
        "## CUDAテンソル\n",
        "\n",
        "テンソルは `.to` メソッドを使って任意のデバイスに移動することができます。"
      ]
    },
    {
      "cell_type": "code",
      "metadata": {
        "id": "QAJ2WCvcUWht",
        "colab_type": "code",
        "colab": {}
      },
      "source": [
        "if torch.cuda.is_available():\n",
        "  device = torch.device(\"cuda\")\n",
        "  y = torch.ones_like(x, device=device)\n",
        "  print(x, y)\n",
        "\n",
        "  x = x.to(device)\n",
        "  z = x + y\n",
        "  print(z)\n",
        "  print(z.to(\"cpu\", torch.double))\n",
        "\n",
        "else:\n",
        "  print(\"no available cuda.\")"
      ],
      "execution_count": null,
      "outputs": []
    },
    {
      "cell_type": "markdown",
      "metadata": {
        "id": "H-wf9yV0U8-A",
        "colab_type": "text"
      },
      "source": [
        "## 引用・参考\n",
        "+ [DEEP LEARNING WITH PYTORCH: A 60 MINUTE BLITZ - What is pytorch?](https://pytorch.org/tutorials/beginner/blitz/tensor_tutorial.html#sphx-glr-beginner-blitz-tensor-tutorial-py)"
      ]
    }
  ]
}